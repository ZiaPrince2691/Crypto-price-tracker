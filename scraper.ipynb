{
 "cells": [
  {
   "cell_type": "code",
   "execution_count": 28,
   "metadata": {},
   "outputs": [],
   "source": [
    "import requests\n",
    "import time\n",
    "import pandas as pd"
   ]
  },
  {
   "cell_type": "code",
   "execution_count": 29,
   "id": "a4e27369",
   "metadata": {},
   "outputs": [],
   "source": [
    "def get_crypto__price_data():\n",
    "\n",
    "    url = 'https://api.coingecko.com/api/v3/coins/markets?vs_currency=usd&ids=bitcoin'\n",
    "    res = requests.get(url)\n",
    "    details = res.json()[0]\n",
    "\n",
    "    data = {\n",
    "            'price' : details['current_price'],\n",
    "            'date' : time.strftime(\"%M\")\n",
    "    }\n",
    "\n",
    "    return data"
   ]
  },
  {
   "cell_type": "code",
   "execution_count": null,
   "id": "457b17c0",
   "metadata": {},
   "outputs": [],
   "source": [
    "crypto_data_list = []\n",
    "\n",
    "while True:\n",
    "    \n",
    "    data = get_crypto__price_data()\n",
    "    crypto_data_list.append(data)\n",
    "    df = pd.DataFrame(crypto_data_list)\n",
    "    df.to_csv('crypto_prices.csv')\n",
    "    time.sleep(30)"
   ]
  }
 ],
 "metadata": {
  "kernelspec": {
   "display_name": "Python 3",
   "language": "python",
   "name": "python3"
  },
  "language_info": {
   "codemirror_mode": {
    "name": "ipython",
    "version": 3
   },
   "file_extension": ".py",
   "mimetype": "text/x-python",
   "name": "python",
   "nbconvert_exporter": "python",
   "pygments_lexer": "ipython3",
   "version": "3.13.3"
  }
 },
 "nbformat": 4,
 "nbformat_minor": 5
}
